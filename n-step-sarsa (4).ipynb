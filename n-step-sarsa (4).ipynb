{
 "cells": [
  {
   "cell_type": "markdown",
   "id": "6c22e82a-097b-4bf2-9412-6d27e5661850",
   "metadata": {},
   "source": [
    "### N-Step SARSA"
   ]
  },
  {
   "cell_type": "markdown",
   "id": "ade250e6-3702-40fc-9c07-5422c8299cd9",
   "metadata": {},
   "source": [
    "<style>  \n",
    "body {  \n",
    "  margin: 1cm 1.5cm !important;  \n",
    "}  \n",
    "  \n",
    ".container {  \n",
    "  width: 100% !important;  \n",
    "  max-width: none !important;  \n",
    "}  \n",
    "  \n",
    ".rendered_html {  \n",
    "  width: 100% !important;  \n",
    "}  \n",
    "  \n",
    ".rendered_html pre {  \n",
    "  white-space: pre-wrap !important;  \n",
    "  word-wrap: break-word !important;  \n",
    "}  \n",
    "  \n",
    "@media print {  \n",
    "  body {  \n",
    "    margin: 1cm 1.5cm !important;  \n",
    "  }  \n",
    "}  \n",
    "</style>  \n",
    "\n"
   ]
  },
  {
   "cell_type": "code",
   "execution_count": 1,
   "id": "01791007-cba8-4e04-9feb-d3d51e21bc11",
   "metadata": {},
   "outputs": [
    {
     "name": "stdout",
     "output_type": "stream",
     "text": [
      "episode: 0\n",
      "self.Q_table:[[[0. 0. 0.]\n",
      "  [0. 0. 0.]]\n",
      "\n",
      " [[0. 0. 0.]\n",
      "  [0. 0. 0.]]\n",
      "\n",
      " [[0. 0. 0.]\n",
      "  [0. 0. 0.]]\n",
      "\n",
      " [[0. 0. 0.]\n",
      "  [0. 0. 0.]]]\n",
      "current state:(1, 0)\n",
      "episode: 100\n",
      "self.Q_table:[[[  0.           0.           0.        ]\n",
      "  [  0.           0.           0.        ]]\n",
      "\n",
      " [[ -9.99997901 -10.          -9.99993636]\n",
      "  [-10.         -10.         -10.        ]]\n",
      "\n",
      " [[  0.           0.           0.        ]\n",
      "  [  0.           0.           0.        ]]\n",
      "\n",
      " [[  0.           0.           0.        ]\n",
      "  [  0.           0.           0.        ]]]\n",
      "current state:(1, 0)\n",
      "episode: 200\n",
      "self.Q_table:[[[ -9.83666347  -9.40504817  -7.94182127]\n",
      "  [ -8.61460473  -8.54195507  -4.12801961]]\n",
      "\n",
      " [[ -9.99996101  -9.99999651  -9.99996196]\n",
      "  [-10.         -10.         -10.        ]]\n",
      "\n",
      " [[ -9.99996248  -9.99999897  -9.99998822]\n",
      "  [ -9.99998555  -9.99999993  -9.99999973]]\n",
      "\n",
      " [[  0.           0.           0.        ]\n",
      "  [  0.           0.           0.        ]]]\n",
      "At episode: 217, Win!!!\n",
      "At episode: 230, Win!!!\n",
      "At episode: 245, Win!!!\n",
      "At episode: 246, Win!!!\n",
      "At episode: 250, Win!!!\n",
      "Agent has won 5 times! Stopping training...\n",
      "Finished training!\n",
      "Win!!!\n"
     ]
    },
    {
     "data": {
      "image/png": "[encoded data removed]",
      "text/plain": [
       "<Figure size 432x288 with 1 Axes>"
      ]
     },
     "metadata": {
      "needs_background": "light"
     },
     "output_type": "display_data"
    }
   ],
   "source": [
    "import pandas as pd\n",
    "\n",
    "import matplotlib.pyplot as plt\n",
    "import numpy as np\n",
    "\n",
    "from nstep_sarsa_agent import MountainCarAgent\n",
    "\n",
    "def moving_average(arr, window_size=10):\n",
    "    ret = np.cumsum(arr, dtype=float)\n",
    "    ret[window_size:] = ret[window_size:] - ret[:-window_size]\n",
    "    return ret[window_size - 1:] / window_size\n",
    "\n",
    "TD_N= 100\n",
    "\n",
    "agent_n_step_sarsa = MountainCarAgent(num_episodes = 500, early_stopping_threshold=5, num_steps_in_episode=2000)\n",
    "\n",
    "losses_n_step_sarsa = agent_n_step_sarsa.train(method='n_step_sarsa')\n",
    "\n",
    "agent_n_step_sarsa.run()\n",
    "\n",
    "ma_losses_n_step_sarsa = moving_average(losses_n_step_sarsa, window_size=50)\n",
    "x= np.arange(0,len(ma_losses_n_step_sarsa))\n",
    "\n",
    "x = [x+50 for x in x]\n",
    "plt.plot(x, ma_losses_n_step_sarsa, label=f'{TD_N} step SARSA')\n",
    "\n",
    "plt.title(\"Moving Average (T=50) of Rewards per episode\")\n",
    "plt.xlabel(\"Episode Number\")\n",
    "plt.ylabel(\"Total Rewards\")\n",
    "plt.legend()\n",
    "\n",
    "log_df = pd.DataFrame({'rewards':ma_losses_n_step_sarsa})\n",
    "log_df['method'] = f'{TD_N} step SARSA'\n",
    "log_df.to_csv(f\"MountainCar_{TD_N}_step_sarsa.csv\")"
   ]
  },
  {
   "cell_type": "code",
   "execution_count": 2,
   "id": "4e2cd4c0-4f37-4dcd-b4b9-dccb2cec3a10",
   "metadata": {},
   "outputs": [
    {
     "ename": "SyntaxError",
     "evalue": "'break' outside loop (371449011.py, line 1)",
     "output_type": "error",
     "traceback": [
      "\u001b[0;36m  Input \u001b[0;32mIn [2]\u001b[0;36m\u001b[0m\n\u001b[0;31m    break\u001b[0m\n\u001b[0m    ^\u001b[0m\n\u001b[0;31mSyntaxError\u001b[0m\u001b[0;31m:\u001b[0m 'break' outside loop\n"
     ]
    }
   ],
   "source": [
    "break "
   ]
  },
  {
   "cell_type": "markdown",
   "id": "984e900d-0c1f-454f-a0e5-7c8b175029c2",
   "metadata": {},
   "source": [
    "### Combinations of parameters that worked: \n",
    "\n",
    "<img src=\"TD(100).png\" width=\"500\"/>\n",
    "\n",
    "\n",
    "{'buckets': (4, 2), 'num_episodes': 500, 'min_lr': 0.1, 'min_explore': 0.1, 'discount': 0.9, 'decay': 25, 'n_step': 100, 'env': <TimeLimit<OrderEnforcing<PassiveEnvChecker<MountainCarEnv<MountainCar-v0>>>>>, 'upper_bounds': [0.6, 0.07], 'lower_bounds': [-1.2, -0.07], 'Q_table': array([[[ -9.99450167,  -9.99160768,  -9.99303862],\n",
    "        [ -9.96132003,  -9.87478488,  -9.87694384]],\n",
    "\n",
    "       [[ -9.99999961,  -9.99999973,  -9.9999997 ],\n",
    "        [-10.        , -10.        ,  -9.99999999]],\n",
    "\n",
    "       [[ -9.9999986 ,  -9.99999904,  -9.99999997],\n",
    "        [ -9.99999442,  -9.99999275,  -9.99998366]],\n",
    "\n",
    "       [[ -2.71      ,   0.        ,  -1.        ],\n",
    "        [ -4.68556344,  -4.68548123,  -6.86189404]]]), 'N': array([[[5.8700e+02, 1.0430e+03, 1.1120e+03],\n",
    "        [4.8500e+02, 9.2400e+02, 1.3240e+03]],\n",
    "\n",
    "       [[2.3442e+04, 1.1459e+04, 7.0120e+03],\n",
    "        [9.7270e+03, 1.0416e+04, 1.5635e+04]],\n",
    "\n",
    "       [[2.2220e+03, 1.5940e+03, 7.6700e+02],\n",
    "        [9.2900e+02, 1.9670e+03, 4.6540e+03]],\n",
    "\n",
    "       [[1.7700e+02, 5.7000e+01, 9.0000e+00],\n",
    "        [4.1600e+02, 3.9600e+02, 1.8200e+02]]]), 'lr': 0.1, 'explore_rate': 0.1, 'rewards': deque([-1.0, -1.0, -1.0, -1.0, -1.0, -1.0, -1.0, -1.0, -1.0, -1.0, -1.0, -1.0, -1.0, -1.0, -1.0, -1.0, -1.0, -1.0, -1.0, -1.0, -1.0, -1.0, -1.0, -1.0, -1.0, -1.0, -1.0, -1.0, -1.0, -1.0, -1.0, -1.0, -1.0, -1.0, -1.0, -1.0, -1.0, -1.0, -1.0, -1.0, -1.0, -1.0, -1.0, -1.0, -1.0, -1.0, -1.0, -1.0, -1.0, -1.0, -1.0, -1.0, -1.0, -1.0, -1.0, -1.0, -1.0, -1.0, -1.0, -1.0, -1.0, -1.0, -1.0, -1.0, -1.0, -1.0, -1.0, -1.0, -1.0, -1.0, -1.0, -1.0, -1.0, -1.0, -1.0, -1.0, -1.0, -1.0, -1.0, -1.0, -1.0, -1.0, -1.0, -1.0, -1.0, -1.0, -1.0, -1.0, -1.0, -1.0, -1.0, -1.0, -1.0, -1.0, -1.0, -1.0, -1.0, -1.0, -1.0, -1.0], maxlen=100), 'state_actions': deque([((1, 0), 0), ((1, 0), 0), ((1, 0), 0), ((1, 0), 0), ((1, 0), 0), ((1, 0), 1), ((0, 0), 1), ((0, 0), 1), ((0, 0), 1), ((0, 0), 1), ((0, 0), 1), ((0, 0), 1), ((0, 0), 1), ((0, 0), 1), ((0, 0), 0), ((0, 0), 1), ((0, 0), 1), ((0, 0), 1), ((0, 0), 1), ((0, 1), 1), ((0, 1), 1), ((0, 1), 1), ((0, 1), 1), ((0, 1), 1), ((0, 1), 1), ((0, 1), 2), ((0, 1), 1), ((0, 1), 1), ((0, 1), 1), ((0, 1), 1), ((1, 1), 1), ((1, 1), 1), ((1, 1), 1), ((1, 1), 1), ((1, 1), 1), ((1, 1), 1), ((1, 1), 1), ((1, 1), 2), ((1, 1), 1), ((1, 1), 0), ((1, 1), 2), ((1, 1), 1), ((1, 1), 1), ((1, 1), 1), ((1, 1), 1), ((2, 1), 1), ((2, 1), 1), ((2, 1), 1), ((2, 1), 1), ((2, 1), 1), ((2, 1), 1), ((2, 1), 2), ((2, 1), 1), ((2, 1), 1), ((2, 1), 1), ((2, 1), 1), ((2, 1), 1), ((2, 1), 1), ((2, 1), 1), ((2, 1), 1), ((2, 1), 1), ((2, 1), 1), ((2, 1), 1), ((2, 0), 1), ((2, 0), 0), ((2, 0), 1), ((2, 0), 1), ((2, 0), 1), ((2, 0), 1), ((2, 0), 1), ((2, 0), 1), ((2, 0), 1), ((2, 0), 1), ((2, 0), 2), ((2, 0), 1), ((2, 0), 1), ((2, 0), 1), ((2, 0), 1), ((2, 0), 1), ((1, 0), 0), ((1, 0), 0), ((1, 0), 0), ((1, 0), 0), ((1, 0), 0), ((1, 0), 0), ((1, 0), 0), ((1, 0), 0), ((1, 0), 0), ((1, 0), 0), ((1, 0), 0), ((1, 0), 0), ((1, 0), 0), ((0, 0), 1), ((0, 0), 1), ((0, 0), 1), ((0, 0), 1), ((0, 0), 1), ((0, 0), 1), ((0, 0), 1)], maxlen=100)}\n",
    "    \n",
    "    "
   ]
  },
  {
   "cell_type": "markdown",
   "id": "ec116fd7-bf3e-4d06-96ad-af894807dc3b",
   "metadata": {},
   "source": [
    "### Performance Comparison across different values of TD(N)"
   ]
  },
  {
   "cell_type": "code",
   "execution_count": null,
   "id": "6acc9439-3377-4826-8fe3-76c537db4a9d",
   "metadata": {},
   "outputs": [],
   "source": [
    "print(vars(agent_n_step_sarsa))"
   ]
  },
  {
   "cell_type": "code",
   "execution_count": null,
   "id": "d8c30648-dcd5-4b37-88e6-a8c44fb44232",
   "metadata": {},
   "outputs": [],
   "source": [
    "import os\n",
    "method_comparison = [x for x in os.listdir() if 'MountainCar' in x and '.csv' in x and'step_sarsa' in x]\n",
    "method_comparison = ['MountainCar_100_step_sarsa.csv',\n",
    " 'MountainCar_3_step_sarsa.csv',\n",
    " 'MountainCar_4_step_sarsa.csv',\n",
    " 'MountainCar_2_step_sarsa.csv',\n",
    " 'MountainCar_0_step_sarsa.csv']"
   ]
  },
  {
   "cell_type": "code",
   "execution_count": null,
   "id": "8a93c492-6a71-4c0e-a4c7-4fdef4e02aa5",
   "metadata": {},
   "outputs": [],
   "source": [
    "\n",
    "for i in range(0,len(method_comparison)): \n",
    "    temp_df = pd.read_csv(method_comparison[i])\n",
    "    plt.plot(temp_df.index, temp_df['rewards'], label = f\"{temp_df['method'].iloc[i]}\")\n",
    "plt.legend()\n",
    "plt.xlabel(\"Episode Number\")\n",
    "plt.ylabel(\"Total Rewards\")"
   ]
  },
  {
   "cell_type": "code",
   "execution_count": null,
   "id": "6610013e-ba6c-4846-817d-0eda1111a743",
   "metadata": {},
   "outputs": [],
   "source": []
  }
 ],
 "metadata": {
  "kernelspec": {
   "display_name": "Python 3 (ipykernel)",
   "language": "python",
   "name": "python3"
  },
  "language_info": {
   "codemirror_mode": {
    "name": "ipython",
    "version": 3
   },
   "file_extension": ".py",
   "mimetype": "text/x-python",
   "name": "python",
   "nbconvert_exporter": "python",
   "pygments_lexer": "ipython3",
   "version": "3.9.12"
  }
 },
 "nbformat": 4,
 "nbformat_minor": 5
}
